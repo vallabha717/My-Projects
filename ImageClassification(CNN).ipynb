{
  "nbformat": 4,
  "nbformat_minor": 0,
  "metadata": {
    "colab": {
      "provenance": []
    },
    "kernelspec": {
      "name": "python3",
      "display_name": "Python 3"
    },
    "language_info": {
      "name": "python"
    }
  },
  "cells": [
    {
      "cell_type": "code",
      "execution_count": null,
      "metadata": {
        "id": "8zSFK-dlgn4n"
      },
      "outputs": [],
      "source": [
        "import torch\n",
        "import torch.nn as nn\n",
        "import torch.optim as optim\n",
        "import torchvision\n",
        "import torchvision.transforms as transforms\n",
        "import matplotlib.pyplot as plt"
      ]
    },
    {
      "cell_type": "code",
      "source": [
        "transform = transforms.Compose([transforms.ToTensor(),transforms.Normalize((0.5,0.5,0.5),(0.5,0.5,0.5))])\n",
        "trainset = torchvision.datasets.CIFAR10(root='./data',train=True,download=True,transform=transform)\n",
        "testset = torchvision.datasets.CIFAR10(root='./data',train=False,download=True,transform=transform)"
      ],
      "metadata": {
        "colab": {
          "base_uri": "https://localhost:8080/"
        },
        "id": "UzM7ERNJhD3r",
        "outputId": "9eec3c42-18d0-426e-f579-774289148013"
      },
      "execution_count": null,
      "outputs": [
        {
          "output_type": "stream",
          "name": "stdout",
          "text": [
            "Files already downloaded and verified\n",
            "Files already downloaded and verified\n"
          ]
        }
      ]
    },
    {
      "cell_type": "code",
      "source": [
        "train_loader = torch.utils.data.DataLoader(trainset,batch_size=64,shuffle=True,num_workers= 2)\n",
        "test_loader =  torch.utils.data.DataLoader(testset,batch_size=64,shuffle=True,num_workers= 2)"
      ],
      "metadata": {
        "id": "Stgox0IfiBU_"
      },
      "execution_count": null,
      "outputs": []
    },
    {
      "cell_type": "markdown",
      "source": [
        "# **Building a CNN Model**"
      ],
      "metadata": {
        "id": "7AzIVIqRmEEF"
      }
    },
    {
      "cell_type": "code",
      "source": [
        "class CNN(nn.Module):\n",
        "  def __init__(self):\n",
        "    super().__init__()\n",
        "    self.conv = nn.Sequential(\n",
        "        nn.Conv2d(in_channels=3,out_channels=16,kernel_size=3,stride=1,padding=1), #(i-f+2p)/s +1  (32-3+2)/1    +1 = 32\n",
        "        nn.MaxPool2d(kernel_size=2,stride=2),#(M-P)/s + 1   (32-2)/2  + 1 = 16\n",
        "        nn.ReLU(),\n",
        "        nn.Conv2d(in_channels=16,out_channels=32,kernel_size=3,stride=1,padding=1),\n",
        "        nn.MaxPool2d(kernel_size=2,stride=2),  #(M-P)/s + 1   (16-2)/2   +1  =8\n",
        "        nn.ReLU()\n",
        "    )\n",
        "    self.fc = nn.Sequential(\n",
        "        nn.Linear(in_features=32*8*8,out_features=64),\n",
        "        nn.ReLU(),\n",
        "        nn.Linear(in_features=64,out_features=10)\n",
        "    )\n",
        "\n",
        "  def forward(self,x):\n",
        "    x = self.conv(x)\n",
        "    x = x.view(x.size(0),-1)\n",
        "    x = self.fc(x)\n",
        "    return x\n",
        "\n",
        "\n",
        "model=CNN()"
      ],
      "metadata": {
        "id": "LvYu8EXFiKJs"
      },
      "execution_count": null,
      "outputs": []
    },
    {
      "cell_type": "code",
      "source": [
        "criterion=nn.CrossEntropyLoss()\n",
        "optimizer = optim.SGD(model.parameters(),lr=0.01)"
      ],
      "metadata": {
        "id": "BF0zGc5ssqD2"
      },
      "execution_count": null,
      "outputs": []
    },
    {
      "cell_type": "code",
      "source": [
        "import time\n",
        "start_time = time.time()\n",
        "loss_list=[]\n",
        "accuracy_list=[]\n",
        "for epoch in range(5):\n",
        "  epoch_loss=0\n",
        "  for images,labels in train_loader:\n",
        "    outputs = model(images)\n",
        "    loss = criterion(outputs,labels)\n",
        "\n",
        "\n",
        "    optimizer.zero_grad()\n",
        "    loss.backward()\n",
        "    optimizer.step()\n",
        "\n",
        "    epoch_loss += loss.item()\n",
        "\n",
        "  loss_list.append(epoch_loss/len(train_loader))\n",
        "\n",
        "  with torch.no_grad():\n",
        "    correct = 0\n",
        "    total = 0\n",
        "    for images,labels in train_loader:\n",
        "      outputs=model(images)\n",
        "      _,predicted = torch.max(outputs.data,1)\n",
        "      total += labels.size(0)\n",
        "      correct += (predicted == labels).sum().item()\n",
        "      accuracy = correct/total\n",
        "      accuracy_list.append(accuracy)\n",
        "\n",
        "    print('Epoch [{}/50] Training Accuracy: {: .4f}'.format(epoch+1,correct/total),'Loss:{: .4f}'.format(loss_list[-1]))\n",
        "\n",
        "print('Training took {: .2f}'.format(time.time()-start_time))"
      ],
      "metadata": {
        "colab": {
          "base_uri": "https://localhost:8080/"
        },
        "id": "Ftqw8uObtV1O",
        "outputId": "68a928ed-bd71-4ee6-d4ee-c010705ff99e"
      },
      "execution_count": null,
      "outputs": [
        {
          "output_type": "stream",
          "name": "stderr",
          "text": [
            "/usr/lib/python3.10/multiprocessing/popen_fork.py:66: RuntimeWarning: os.fork() was called. os.fork() is incompatible with multithreaded code, and JAX is multithreaded, so this will likely lead to a deadlock.\n",
            "  self.pid = os.fork()\n"
          ]
        },
        {
          "output_type": "stream",
          "name": "stdout",
          "text": [
            "Epoch [1/50] Training Accuracy:  0.3279 Loss: 2.0665\n",
            "Epoch [2/50] Training Accuracy:  0.3580 Loss: 1.7121\n",
            "Epoch [3/50] Training Accuracy:  0.4341 Loss: 1.5268\n",
            "Epoch [4/50] Training Accuracy:  0.5031 Loss: 1.4109\n",
            "Epoch [5/50] Training Accuracy:  0.5399 Loss: 1.3316\n",
            "Training took  385.67\n"
          ]
        }
      ]
    },
    {
      "cell_type": "code",
      "source": [
        "x= range(5)\n",
        "plt.plot(x,loss_list)\n",
        "plt.xlabel('iterations')\n",
        "plt.ylabel('Loss')\n",
        "plt.show()"
      ],
      "metadata": {
        "colab": {
          "base_uri": "https://localhost:8080/",
          "height": 453
        },
        "id": "fjZvDCna8LNP",
        "outputId": "d55b763e-1ed6-4b03-8a65-ad54dbcd59de"
      },
      "execution_count": null,
      "outputs": [
        {
          "output_type": "display_data",
          "data": {
            "text/plain": [
              "<Figure size 640x480 with 1 Axes>"
            ],
            "image/png": "[encoded data removed]"
          },
          "metadata": {}
        }
      ]
    },
    {
      "cell_type": "markdown",
      "source": [
        "# **Testing**"
      ],
      "metadata": {
        "id": "0ePwoJod4lyj"
      }
    },
    {
      "cell_type": "code",
      "source": [
        "with torch.no_grad():\n",
        "    correct = 0\n",
        "    total = 0\n",
        "    for images,labels in test_loader:\n",
        "      outputs=model(images)\n",
        "      _,predicted = torch.max(outputs.data,1)\n",
        "      total += labels.size(0)\n",
        "      correct += (predicted == labels).sum().item()\n",
        "    print('Test accuracy : {: .4f}'.format(correct/total))"
      ],
      "metadata": {
        "colab": {
          "base_uri": "https://localhost:8080/"
        },
        "id": "tnky6tdF4YWr",
        "outputId": "4e2c9c52-0d8a-4ec9-d0e0-c8cb7a273dda"
      },
      "execution_count": null,
      "outputs": [
        {
          "output_type": "stream",
          "name": "stdout",
          "text": [
            "Test accuracy :  0.5318\n"
          ]
        }
      ]
    },
    {
      "cell_type": "code",
      "source": [
        "from sklearn.metrics import confusion_matrix\n",
        "model.eval()\n",
        "with torch.no_grad():\n",
        "  correct = 0\n",
        "  total = 0\n",
        "  confusion_matrix = torch.zeros(10,10)\n",
        "  for images,labels in test_loader:\n",
        "      outputs=model(images)\n",
        "      _,predicted = torch.max(outputs.data,1)\n",
        "      total += labels.size(0)\n",
        "      correct += (predicted == labels).sum().item()\n",
        "      for i,j in zip(predicted,labels):\n",
        "        confusion_matrix[i][j] += 1\n",
        "confusion_matrix=confusion_matrix.numpy().astype(int)\n",
        "print('Confusion Matrix')\n",
        "print(confusion_matrix)"
      ],
      "metadata": {
        "colab": {
          "base_uri": "https://localhost:8080/"
        },
        "id": "jcg9l4Ix4hoj",
        "outputId": "84fb91f8-15b7-45d6-8833-aada3315b7b7"
      },
      "execution_count": null,
      "outputs": [
        {
          "output_type": "stream",
          "name": "stderr",
          "text": [
            "/usr/lib/python3.10/multiprocessing/popen_fork.py:66: RuntimeWarning: os.fork() was called. os.fork() is incompatible with multithreaded code, and JAX is multithreaded, so this will likely lead to a deadlock.\n",
            "  self.pid = os.fork()\n"
          ]
        },
        {
          "output_type": "stream",
          "name": "stdout",
          "text": [
            "Confusion Matrix\n",
            "[[567  19 102  32  45  15  10  23 110  18]\n",
            " [ 56 698  26  28  16  11  16  12  88 156]\n",
            " [ 42   7 330  66 125  73  58  26   6   9]\n",
            " [  9   4  43 246  43  86  53  39   9  10]\n",
            " [  4   2 108  52 344  40  55  49   5   4]\n",
            " [ 13   7 133 270  96 555  51 105  12   6]\n",
            " [ 19   5 109 104 144  56 637  43   2  14]\n",
            " [ 18   5  68  74 123  97  37 575   8  16]\n",
            " [147  39  32  25  26  22   7  12 652  53]\n",
            " [125 214  49 103  38  45  76 116 108 714]]\n"
          ]
        }
      ]
    },
    {
      "cell_type": "code",
      "source": [],
      "metadata": {
        "id": "Wgc5x3ga4rCV"
      },
      "execution_count": null,
      "outputs": []
    },
    {
      "cell_type": "code",
      "source": [],
      "metadata": {
        "id": "0YRcFjGi5Rck"
      },
      "execution_count": null,
      "outputs": []
    }
  ]
}